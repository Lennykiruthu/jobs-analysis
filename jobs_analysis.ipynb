{
 "cells": [
  {
   "cell_type": "markdown",
   "id": "e3e54361",
   "metadata": {},
   "source": [
    "## Importing Data from SQLIte Database\n",
    "---"
   ]
  },
  {
   "cell_type": "code",
   "execution_count": 18,
   "id": "b4272dc9",
   "metadata": {},
   "outputs": [
    {
     "data": {
      "text/markdown": [
       "### Jobs Dataframe"
      ],
      "text/plain": [
       "<IPython.core.display.Markdown object>"
      ]
     },
     "metadata": {},
     "output_type": "display_data"
    },
    {
     "data": {
      "text/html": [
       "<div>\n",
       "<style scoped>\n",
       "    .dataframe tbody tr th:only-of-type {\n",
       "        vertical-align: middle;\n",
       "    }\n",
       "\n",
       "    .dataframe tbody tr th {\n",
       "        vertical-align: top;\n",
       "    }\n",
       "\n",
       "    .dataframe thead th {\n",
       "        text-align: right;\n",
       "    }\n",
       "</style>\n",
       "<table border=\"1\" class=\"dataframe\">\n",
       "  <thead>\n",
       "    <tr style=\"text-align: right;\">\n",
       "      <th></th>\n",
       "      <th>id</th>\n",
       "      <th>title</th>\n",
       "      <th>company</th>\n",
       "      <th>area_list</th>\n",
       "      <th>location</th>\n",
       "      <th>category</th>\n",
       "      <th>salary_max</th>\n",
       "      <th>salary_min</th>\n",
       "      <th>salary_is_predicted</th>\n",
       "      <th>latitude</th>\n",
       "      <th>longitude</th>\n",
       "      <th>contract_type</th>\n",
       "      <th>contract_time</th>\n",
       "      <th>description</th>\n",
       "      <th>created</th>\n",
       "      <th>redirect_url</th>\n",
       "    </tr>\n",
       "  </thead>\n",
       "  <tbody>\n",
       "    <tr>\n",
       "      <th>0</th>\n",
       "      <td>5310740788</td>\n",
       "      <td>Data Analyst</td>\n",
       "      <td>Cedar Recruitment</td>\n",
       "      <td>[\"UK\", \"London\"]</td>\n",
       "      <td>London, UK</td>\n",
       "      <td>IT Jobs</td>\n",
       "      <td>50000.0</td>\n",
       "      <td>50000.0</td>\n",
       "      <td>0</td>\n",
       "      <td>NaN</td>\n",
       "      <td>NaN</td>\n",
       "      <td>permanent</td>\n",
       "      <td>None</td>\n",
       "      <td>Data Analyst (Sports betting sector experience...</td>\n",
       "      <td>2025-07-18T22:35:04Z</td>\n",
       "      <td>https://www.adzuna.co.uk/jobs/land/ad/53107407...</td>\n",
       "    </tr>\n",
       "    <tr>\n",
       "      <th>1</th>\n",
       "      <td>5311386740</td>\n",
       "      <td>Data Analyst</td>\n",
       "      <td>Halian Technology Limited</td>\n",
       "      <td>[\"UK\", \"London\", \"East London\", \"Poplar\"]</td>\n",
       "      <td>Poplar, East London</td>\n",
       "      <td>IT Jobs</td>\n",
       "      <td>117000.0</td>\n",
       "      <td>104000.0</td>\n",
       "      <td>0</td>\n",
       "      <td>51.504431</td>\n",
       "      <td>-0.014588</td>\n",
       "      <td>contract</td>\n",
       "      <td>None</td>\n",
       "      <td>Halian Technology are currently recruiting a D...</td>\n",
       "      <td>2025-07-19T02:47:37Z</td>\n",
       "      <td>https://www.adzuna.co.uk/jobs/land/ad/53113867...</td>\n",
       "    </tr>\n",
       "    <tr>\n",
       "      <th>2</th>\n",
       "      <td>5297811155</td>\n",
       "      <td>Data Analyst</td>\n",
       "      <td>Bernecker's Nursery</td>\n",
       "      <td>[\"UK\", \"London\", \"East London\", \"Canning Town\"]</td>\n",
       "      <td>Canning Town, East London</td>\n",
       "      <td>Part time Jobs</td>\n",
       "      <td>93600.0</td>\n",
       "      <td>93600.0</td>\n",
       "      <td>0</td>\n",
       "      <td>51.508202</td>\n",
       "      <td>0.035485</td>\n",
       "      <td>permanent</td>\n",
       "      <td>part_time</td>\n",
       "      <td>Description We are seeking a skilled Data Anal...</td>\n",
       "      <td>2025-07-11T16:04:33Z</td>\n",
       "      <td>https://www.adzuna.co.uk/jobs/details/52978111...</td>\n",
       "    </tr>\n",
       "    <tr>\n",
       "      <th>3</th>\n",
       "      <td>5307578659</td>\n",
       "      <td>Pension System Calculation and Data Analyst</td>\n",
       "      <td>Morson Talent</td>\n",
       "      <td>[\"UK\", \"London\", \"Central London\", \"Blackfriars\"]</td>\n",
       "      <td>Blackfriars, Central London</td>\n",
       "      <td>Accounting &amp; Finance Jobs</td>\n",
       "      <td>55000.0</td>\n",
       "      <td>55000.0</td>\n",
       "      <td>0</td>\n",
       "      <td>51.515704</td>\n",
       "      <td>-0.104021</td>\n",
       "      <td>permanent</td>\n",
       "      <td>None</td>\n",
       "      <td>Pension System Calculation and Data Analyst Lo...</td>\n",
       "      <td>2025-07-17T02:46:22Z</td>\n",
       "      <td>https://www.adzuna.co.uk/jobs/land/ad/53075786...</td>\n",
       "    </tr>\n",
       "    <tr>\n",
       "      <th>4</th>\n",
       "      <td>5310220101</td>\n",
       "      <td>Data Analyst</td>\n",
       "      <td>Cedar</td>\n",
       "      <td>[\"UK\", \"London\"]</td>\n",
       "      <td>London, UK</td>\n",
       "      <td>IT Jobs</td>\n",
       "      <td>50000.0</td>\n",
       "      <td>50000.0</td>\n",
       "      <td>0</td>\n",
       "      <td>NaN</td>\n",
       "      <td>NaN</td>\n",
       "      <td>permanent</td>\n",
       "      <td>full_time</td>\n",
       "      <td>Data Analyst (Sports betting sector experience...</td>\n",
       "      <td>2025-07-18T20:58:40Z</td>\n",
       "      <td>https://www.adzuna.co.uk/jobs/land/ad/53102201...</td>\n",
       "    </tr>\n",
       "  </tbody>\n",
       "</table>\n",
       "</div>"
      ],
      "text/plain": [
       "           id                                        title  \\\n",
       "0  5310740788                                 Data Analyst   \n",
       "1  5311386740                                 Data Analyst   \n",
       "2  5297811155                                 Data Analyst   \n",
       "3  5307578659  Pension System Calculation and Data Analyst   \n",
       "4  5310220101                                 Data Analyst   \n",
       "\n",
       "                     company  \\\n",
       "0          Cedar Recruitment   \n",
       "1  Halian Technology Limited   \n",
       "2        Bernecker's Nursery   \n",
       "3              Morson Talent   \n",
       "4                      Cedar   \n",
       "\n",
       "                                           area_list  \\\n",
       "0                                   [\"UK\", \"London\"]   \n",
       "1          [\"UK\", \"London\", \"East London\", \"Poplar\"]   \n",
       "2    [\"UK\", \"London\", \"East London\", \"Canning Town\"]   \n",
       "3  [\"UK\", \"London\", \"Central London\", \"Blackfriars\"]   \n",
       "4                                   [\"UK\", \"London\"]   \n",
       "\n",
       "                      location                   category  salary_max  \\\n",
       "0                   London, UK                    IT Jobs     50000.0   \n",
       "1          Poplar, East London                    IT Jobs    117000.0   \n",
       "2    Canning Town, East London             Part time Jobs     93600.0   \n",
       "3  Blackfriars, Central London  Accounting & Finance Jobs     55000.0   \n",
       "4                   London, UK                    IT Jobs     50000.0   \n",
       "\n",
       "   salary_min salary_is_predicted   latitude  longitude contract_type  \\\n",
       "0     50000.0                   0        NaN        NaN     permanent   \n",
       "1    104000.0                   0  51.504431  -0.014588      contract   \n",
       "2     93600.0                   0  51.508202   0.035485     permanent   \n",
       "3     55000.0                   0  51.515704  -0.104021     permanent   \n",
       "4     50000.0                   0        NaN        NaN     permanent   \n",
       "\n",
       "  contract_time                                        description  \\\n",
       "0          None  Data Analyst (Sports betting sector experience...   \n",
       "1          None  Halian Technology are currently recruiting a D...   \n",
       "2     part_time  Description We are seeking a skilled Data Anal...   \n",
       "3          None  Pension System Calculation and Data Analyst Lo...   \n",
       "4     full_time  Data Analyst (Sports betting sector experience...   \n",
       "\n",
       "                created                                       redirect_url  \n",
       "0  2025-07-18T22:35:04Z  https://www.adzuna.co.uk/jobs/land/ad/53107407...  \n",
       "1  2025-07-19T02:47:37Z  https://www.adzuna.co.uk/jobs/land/ad/53113867...  \n",
       "2  2025-07-11T16:04:33Z  https://www.adzuna.co.uk/jobs/details/52978111...  \n",
       "3  2025-07-17T02:46:22Z  https://www.adzuna.co.uk/jobs/land/ad/53075786...  \n",
       "4  2025-07-18T20:58:40Z  https://www.adzuna.co.uk/jobs/land/ad/53102201...  "
      ]
     },
     "metadata": {},
     "output_type": "display_data"
    },
    {
     "data": {
      "text/markdown": [
       "---"
      ],
      "text/plain": [
       "<IPython.core.display.Markdown object>"
      ]
     },
     "metadata": {},
     "output_type": "display_data"
    },
    {
     "data": {
      "text/markdown": [
       "Descriptive Statistics"
      ],
      "text/plain": [
       "<IPython.core.display.Markdown object>"
      ]
     },
     "metadata": {},
     "output_type": "display_data"
    },
    {
     "data": {
      "text/html": [
       "<div>\n",
       "<style scoped>\n",
       "    .dataframe tbody tr th:only-of-type {\n",
       "        vertical-align: middle;\n",
       "    }\n",
       "\n",
       "    .dataframe tbody tr th {\n",
       "        vertical-align: top;\n",
       "    }\n",
       "\n",
       "    .dataframe thead th {\n",
       "        text-align: right;\n",
       "    }\n",
       "</style>\n",
       "<table border=\"1\" class=\"dataframe\">\n",
       "  <thead>\n",
       "    <tr style=\"text-align: right;\">\n",
       "      <th></th>\n",
       "      <th>salary_max</th>\n",
       "      <th>salary_min</th>\n",
       "      <th>latitude</th>\n",
       "      <th>longitude</th>\n",
       "    </tr>\n",
       "  </thead>\n",
       "  <tbody>\n",
       "    <tr>\n",
       "      <th>count</th>\n",
       "      <td>1488.000000</td>\n",
       "      <td>1489.000000</td>\n",
       "      <td>894.000000</td>\n",
       "      <td>894.000000</td>\n",
       "    </tr>\n",
       "    <tr>\n",
       "      <th>mean</th>\n",
       "      <td>106764.647641</td>\n",
       "      <td>97518.290591</td>\n",
       "      <td>39.683289</td>\n",
       "      <td>-90.319594</td>\n",
       "    </tr>\n",
       "    <tr>\n",
       "      <th>std</th>\n",
       "      <td>60015.286834</td>\n",
       "      <td>48475.753153</td>\n",
       "      <td>4.938213</td>\n",
       "      <td>39.128809</td>\n",
       "    </tr>\n",
       "    <tr>\n",
       "      <th>min</th>\n",
       "      <td>26.000000</td>\n",
       "      <td>0.000000</td>\n",
       "      <td>32.721100</td>\n",
       "      <td>-122.749887</td>\n",
       "    </tr>\n",
       "    <tr>\n",
       "      <th>25%</th>\n",
       "      <td>61366.762500</td>\n",
       "      <td>59797.560000</td>\n",
       "      <td>37.394060</td>\n",
       "      <td>-121.466490</td>\n",
       "    </tr>\n",
       "    <tr>\n",
       "      <th>50%</th>\n",
       "      <td>94770.535000</td>\n",
       "      <td>89684.620000</td>\n",
       "      <td>37.939426</td>\n",
       "      <td>-117.164709</td>\n",
       "    </tr>\n",
       "    <tr>\n",
       "      <th>75%</th>\n",
       "      <td>137237.857500</td>\n",
       "      <td>127690.940000</td>\n",
       "      <td>40.755381</td>\n",
       "      <td>-73.978504</td>\n",
       "    </tr>\n",
       "    <tr>\n",
       "      <th>max</th>\n",
       "      <td>728000.000000</td>\n",
       "      <td>312000.000000</td>\n",
       "      <td>51.652100</td>\n",
       "      <td>0.098600</td>\n",
       "    </tr>\n",
       "  </tbody>\n",
       "</table>\n",
       "</div>"
      ],
      "text/plain": [
       "          salary_max     salary_min    latitude   longitude\n",
       "count    1488.000000    1489.000000  894.000000  894.000000\n",
       "mean   106764.647641   97518.290591   39.683289  -90.319594\n",
       "std     60015.286834   48475.753153    4.938213   39.128809\n",
       "min        26.000000       0.000000   32.721100 -122.749887\n",
       "25%     61366.762500   59797.560000   37.394060 -121.466490\n",
       "50%     94770.535000   89684.620000   37.939426 -117.164709\n",
       "75%    137237.857500  127690.940000   40.755381  -73.978504\n",
       "max    728000.000000  312000.000000   51.652100    0.098600"
      ]
     },
     "metadata": {},
     "output_type": "display_data"
    },
    {
     "data": {
      "text/markdown": [
       "---"
      ],
      "text/plain": [
       "<IPython.core.display.Markdown object>"
      ]
     },
     "metadata": {},
     "output_type": "display_data"
    },
    {
     "data": {
      "text/markdown": [
       "Missing Values"
      ],
      "text/plain": [
       "<IPython.core.display.Markdown object>"
      ]
     },
     "metadata": {},
     "output_type": "display_data"
    },
    {
     "data": {
      "text/plain": [
       "id                        0\n",
       "title                     0\n",
       "company                   9\n",
       "area_list                 0\n",
       "location                  0\n",
       "category                  0\n",
       "salary_max                1\n",
       "salary_min                0\n",
       "salary_is_predicted       0\n",
       "latitude                595\n",
       "longitude               595\n",
       "contract_type          1272\n",
       "contract_time           914\n",
       "description               0\n",
       "created                   0\n",
       "redirect_url              0\n",
       "dtype: int64"
      ]
     },
     "metadata": {},
     "output_type": "display_data"
    },
    {
     "data": {
      "text/markdown": [
       "---"
      ],
      "text/plain": [
       "<IPython.core.display.Markdown object>"
      ]
     },
     "metadata": {},
     "output_type": "display_data"
    },
    {
     "data": {
      "text/markdown": [
       "Data Types"
      ],
      "text/plain": [
       "<IPython.core.display.Markdown object>"
      ]
     },
     "metadata": {},
     "output_type": "display_data"
    },
    {
     "data": {
      "text/plain": [
       "id                      object\n",
       "title                   object\n",
       "company                 object\n",
       "area_list               object\n",
       "location                object\n",
       "category                object\n",
       "salary_max             float64\n",
       "salary_min             float64\n",
       "salary_is_predicted     object\n",
       "latitude               float64\n",
       "longitude              float64\n",
       "contract_type           object\n",
       "contract_time           object\n",
       "description             object\n",
       "created                 object\n",
       "redirect_url            object\n",
       "dtype: object"
      ]
     },
     "metadata": {},
     "output_type": "display_data"
    },
    {
     "data": {
      "text/markdown": [
       "---"
      ],
      "text/plain": [
       "<IPython.core.display.Markdown object>"
      ]
     },
     "metadata": {},
     "output_type": "display_data"
    },
    {
     "data": {
      "text/markdown": [
       "Shape"
      ],
      "text/plain": [
       "<IPython.core.display.Markdown object>"
      ]
     },
     "metadata": {},
     "output_type": "display_data"
    },
    {
     "data": {
      "text/plain": [
       "(1489, 16)"
      ]
     },
     "metadata": {},
     "output_type": "display_data"
    }
   ],
   "source": [
    "import sqlite3\n",
    "import pandas as pd\n",
    "from IPython.display import display, Markdown\n",
    "\n",
    "# Connect to SQLite database\n",
    "conn    = sqlite3.connect('adzuna_jobs.db')\n",
    "\n",
    "# Read a table into a dataframe\n",
    "jobs_df = pd.read_sql_query(\"SELECT * FROM jobs\", conn)\n",
    "\n",
    "# close the connection\n",
    "conn.close()\n",
    "\n",
    "# Shape and Preview\n",
    "display(Markdown('### Jobs Dataframe'))\n",
    "display(jobs_df.head())\n",
    "display(Markdown('---'))\n",
    "display(Markdown('Descriptive Statistics'))\n",
    "display(jobs_df.describe())\n",
    "display(Markdown('---'))\n",
    "display(Markdown('Missing Values'))\n",
    "display(jobs_df.isnull().sum())\n",
    "display(Markdown('---'))\n",
    "display(Markdown('Data Types'))\n",
    "display(jobs_df.dtypes)\n",
    "display(Markdown('---'))\n",
    "display(Markdown('Shape'))\n",
    "display(jobs_df.shape)\n"
   ]
  },
  {
   "cell_type": "markdown",
   "id": "85bd87dd",
   "metadata": {},
   "source": [
    "## Exploratory Data Analysis\n",
    "1. Shape and preview.\n",
    "2. Basic profiling.\n",
    "3. Job posting trend over time.\n",
    "4. Strip area to have a general area view.\n",
    "5. Inspect description to acquire requirements and respnsibilities.\n",
    "---"
   ]
  },
  {
   "cell_type": "code",
   "execution_count": 19,
   "id": "15f80716",
   "metadata": {},
   "outputs": [
    {
     "name": "stdout",
     "output_type": "stream",
     "text": [
      "Number of locations: 791\n",
      "\n",
      "Number of categories: 21, \n",
      " unique categories are: \n",
      "['IT Jobs' 'Part time Jobs' 'Accounting & Finance Jobs'\n",
      " 'PR, Advertising & Marketing Jobs' 'Graduate Jobs' 'Scientific & QA Jobs'\n",
      " 'Admin Jobs' 'Trade & Construction Jobs' 'Consultancy Jobs' 'Retail Jobs'\n",
      " 'HR & Recruitment Jobs' 'Legal Jobs' 'Energy, Oil & Gas Jobs'\n",
      " 'Healthcare & Nursing Jobs' 'Maintenance Jobs' 'Manufacturing Jobs'\n",
      " 'Teaching Jobs' 'Engineering Jobs' 'Customer Services Jobs'\n",
      " 'Other/General Jobs' 'Sales Jobs']\n",
      "\n",
      "Number of titles: 750\n",
      "\n",
      "Number of contract types: 2, \n",
      " unique categories are: \n",
      "['permanent' 'contract' None]\n",
      "\n",
      "Number of contract times: 2, \n",
      " unique categories are: \n",
      "[None 'part_time' 'full_time']\n"
     ]
    }
   ],
   "source": [
    "# Unique values\n",
    "print(f'Number of locations: {jobs_df['company'].nunique()}')\n",
    "print(f'\\nNumber of categories: {jobs_df['category'].nunique()}, \\n unique categories are: \\n{jobs_df['category'].unique()}')\n",
    "print(f'\\nNumber of titles: {jobs_df['title'].nunique()}')\n",
    "print(f'\\nNumber of contract types: {jobs_df['contract_type'].nunique()}, \\n unique categories are: \\n{jobs_df['contract_type'].unique()}')\n",
    "print(f'\\nNumber of contract times: {jobs_df['contract_time'].nunique()}, \\n unique categories are: \\n{jobs_df['contract_time'].unique()}')"
   ]
  },
  {
   "cell_type": "code",
   "execution_count": null,
   "id": "d7b28061",
   "metadata": {},
   "outputs": [],
   "source": []
  }
 ],
 "metadata": {
  "kernelspec": {
   "display_name": "scrapping-analysis-env",
   "language": "python",
   "name": "python3"
  },
  "language_info": {
   "codemirror_mode": {
    "name": "ipython",
    "version": 3
   },
   "file_extension": ".py",
   "mimetype": "text/x-python",
   "name": "python",
   "nbconvert_exporter": "python",
   "pygments_lexer": "ipython3",
   "version": "3.13.3"
  }
 },
 "nbformat": 4,
 "nbformat_minor": 5
}
