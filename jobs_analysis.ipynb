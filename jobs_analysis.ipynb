{
 "cells": [
  {
   "cell_type": "code",
   "execution_count": 12,
   "id": "17797698",
   "metadata": {},
   "outputs": [
    {
     "data": {
      "text/markdown": [
       "### Jobs Dataframe"
      ],
      "text/plain": [
       "<IPython.core.display.Markdown object>"
      ]
     },
     "metadata": {},
     "output_type": "display_data"
    },
    {
     "data": {
      "text/html": [
       "<div>\n",
       "<style scoped>\n",
       "    .dataframe tbody tr th:only-of-type {\n",
       "        vertical-align: middle;\n",
       "    }\n",
       "\n",
       "    .dataframe tbody tr th {\n",
       "        vertical-align: top;\n",
       "    }\n",
       "\n",
       "    .dataframe thead th {\n",
       "        text-align: right;\n",
       "    }\n",
       "</style>\n",
       "<table border=\"1\" class=\"dataframe\">\n",
       "  <thead>\n",
       "    <tr style=\"text-align: right;\">\n",
       "      <th></th>\n",
       "      <th>id</th>\n",
       "      <th>title</th>\n",
       "      <th>company</th>\n",
       "      <th>location</th>\n",
       "      <th>category</th>\n",
       "      <th>salary_max</th>\n",
       "      <th>salary_min</th>\n",
       "      <th>latitude</th>\n",
       "      <th>longitude</th>\n",
       "      <th>contract_type</th>\n",
       "      <th>contract_time</th>\n",
       "      <th>description</th>\n",
       "      <th>created</th>\n",
       "      <th>url</th>\n",
       "    </tr>\n",
       "  </thead>\n",
       "  <tbody>\n",
       "    <tr>\n",
       "      <th>145</th>\n",
       "      <td>5288670448</td>\n",
       "      <td>Data Analyst</td>\n",
       "      <td>Kahana &amp; Feld Llp</td>\n",
       "      <td>Huntington, Orange County</td>\n",
       "      <td>IT Jobs</td>\n",
       "      <td>74880.0</td>\n",
       "      <td>54080.0</td>\n",
       "      <td>33.675315</td>\n",
       "      <td>-117.817344</td>\n",
       "      <td>None</td>\n",
       "      <td>full_time</td>\n",
       "      <td>The Data Analyst will support the Aderant soft...</td>\n",
       "      <td>2025-07-06T03:37:07Z</td>\n",
       "      <td>None</td>\n",
       "    </tr>\n",
       "    <tr>\n",
       "      <th>146</th>\n",
       "      <td>5274701695</td>\n",
       "      <td>Data Analyst</td>\n",
       "      <td>Anine Bing</td>\n",
       "      <td>Los Angeles, Los Angeles County</td>\n",
       "      <td>IT Jobs</td>\n",
       "      <td>110000.0</td>\n",
       "      <td>90000.0</td>\n",
       "      <td>NaN</td>\n",
       "      <td>NaN</td>\n",
       "      <td>None</td>\n",
       "      <td>full_time</td>\n",
       "      <td>ANINE BING is looking for a strategic and hand...</td>\n",
       "      <td>2025-06-29T06:43:32Z</td>\n",
       "      <td>None</td>\n",
       "    </tr>\n",
       "    <tr>\n",
       "      <th>147</th>\n",
       "      <td>5306322810</td>\n",
       "      <td>Data Analyst</td>\n",
       "      <td>Apex Systems</td>\n",
       "      <td>Pomona, Los Angeles County</td>\n",
       "      <td>IT Jobs</td>\n",
       "      <td>83200.0</td>\n",
       "      <td>52000.0</td>\n",
       "      <td>33.994555</td>\n",
       "      <td>-117.813558</td>\n",
       "      <td>None</td>\n",
       "      <td>None</td>\n",
       "      <td>Job: 2081463 Job Description: Data Analyst Rem...</td>\n",
       "      <td>2025-07-16T07:28:22Z</td>\n",
       "      <td>None</td>\n",
       "    </tr>\n",
       "    <tr>\n",
       "      <th>148</th>\n",
       "      <td>5310800188</td>\n",
       "      <td>Data Analyst</td>\n",
       "      <td>Cypher Analytics</td>\n",
       "      <td>San Diego, San Diego County</td>\n",
       "      <td>Engineering Jobs</td>\n",
       "      <td>100000.0</td>\n",
       "      <td>80000.0</td>\n",
       "      <td>32.726967</td>\n",
       "      <td>-117.164709</td>\n",
       "      <td>None</td>\n",
       "      <td>full_time</td>\n",
       "      <td>Full-time Description About Our Company: At Cy...</td>\n",
       "      <td>2025-07-18T18:24:15Z</td>\n",
       "      <td>None</td>\n",
       "    </tr>\n",
       "    <tr>\n",
       "      <th>149</th>\n",
       "      <td>5248155725</td>\n",
       "      <td>Data Analyst</td>\n",
       "      <td>Lbs Financial Credit Union</td>\n",
       "      <td>Westminster, Orange County</td>\n",
       "      <td>IT Jobs</td>\n",
       "      <td>86091.0</td>\n",
       "      <td>68868.0</td>\n",
       "      <td>33.749964</td>\n",
       "      <td>-117.989162</td>\n",
       "      <td>None</td>\n",
       "      <td>full_time</td>\n",
       "      <td>Are you a detail-oriented professional who exc...</td>\n",
       "      <td>2025-06-13T05:38:22Z</td>\n",
       "      <td>None</td>\n",
       "    </tr>\n",
       "  </tbody>\n",
       "</table>\n",
       "</div>"
      ],
      "text/plain": [
       "             id         title                     company  \\\n",
       "145  5288670448  Data Analyst           Kahana & Feld Llp   \n",
       "146  5274701695  Data Analyst                  Anine Bing   \n",
       "147  5306322810  Data Analyst                Apex Systems   \n",
       "148  5310800188  Data Analyst            Cypher Analytics   \n",
       "149  5248155725  Data Analyst  Lbs Financial Credit Union   \n",
       "\n",
       "                            location          category  salary_max  \\\n",
       "145        Huntington, Orange County           IT Jobs     74880.0   \n",
       "146  Los Angeles, Los Angeles County           IT Jobs    110000.0   \n",
       "147       Pomona, Los Angeles County           IT Jobs     83200.0   \n",
       "148      San Diego, San Diego County  Engineering Jobs    100000.0   \n",
       "149       Westminster, Orange County           IT Jobs     86091.0   \n",
       "\n",
       "     salary_min   latitude   longitude contract_type contract_time  \\\n",
       "145     54080.0  33.675315 -117.817344          None     full_time   \n",
       "146     90000.0        NaN         NaN          None     full_time   \n",
       "147     52000.0  33.994555 -117.813558          None          None   \n",
       "148     80000.0  32.726967 -117.164709          None     full_time   \n",
       "149     68868.0  33.749964 -117.989162          None     full_time   \n",
       "\n",
       "                                           description               created  \\\n",
       "145  The Data Analyst will support the Aderant soft...  2025-07-06T03:37:07Z   \n",
       "146  ANINE BING is looking for a strategic and hand...  2025-06-29T06:43:32Z   \n",
       "147  Job: 2081463 Job Description: Data Analyst Rem...  2025-07-16T07:28:22Z   \n",
       "148  Full-time Description About Our Company: At Cy...  2025-07-18T18:24:15Z   \n",
       "149  Are you a detail-oriented professional who exc...  2025-06-13T05:38:22Z   \n",
       "\n",
       "      url  \n",
       "145  None  \n",
       "146  None  \n",
       "147  None  \n",
       "148  None  \n",
       "149  None  "
      ]
     },
     "metadata": {},
     "output_type": "display_data"
    },
    {
     "data": {
      "text/markdown": [
       "---"
      ],
      "text/plain": [
       "<IPython.core.display.Markdown object>"
      ]
     },
     "metadata": {},
     "output_type": "display_data"
    },
    {
     "data": {
      "text/markdown": [
       "Descriptive Statistics"
      ],
      "text/plain": [
       "<IPython.core.display.Markdown object>"
      ]
     },
     "metadata": {},
     "output_type": "display_data"
    },
    {
     "data": {
      "text/html": [
       "<div>\n",
       "<style scoped>\n",
       "    .dataframe tbody tr th:only-of-type {\n",
       "        vertical-align: middle;\n",
       "    }\n",
       "\n",
       "    .dataframe tbody tr th {\n",
       "        vertical-align: top;\n",
       "    }\n",
       "\n",
       "    .dataframe thead th {\n",
       "        text-align: right;\n",
       "    }\n",
       "</style>\n",
       "<table border=\"1\" class=\"dataframe\">\n",
       "  <thead>\n",
       "    <tr style=\"text-align: right;\">\n",
       "      <th></th>\n",
       "      <th>salary_max</th>\n",
       "      <th>salary_min</th>\n",
       "      <th>latitude</th>\n",
       "      <th>longitude</th>\n",
       "    </tr>\n",
       "  </thead>\n",
       "  <tbody>\n",
       "    <tr>\n",
       "      <th>count</th>\n",
       "      <td>150.000000</td>\n",
       "      <td>150.000000</td>\n",
       "      <td>77.000000</td>\n",
       "      <td>77.000000</td>\n",
       "    </tr>\n",
       "    <tr>\n",
       "      <th>mean</th>\n",
       "      <td>80226.384000</td>\n",
       "      <td>73926.877333</td>\n",
       "      <td>38.212112</td>\n",
       "      <td>-97.439284</td>\n",
       "    </tr>\n",
       "    <tr>\n",
       "      <th>std</th>\n",
       "      <td>31667.131773</td>\n",
       "      <td>28166.485779</td>\n",
       "      <td>4.327679</td>\n",
       "      <td>31.570481</td>\n",
       "    </tr>\n",
       "    <tr>\n",
       "      <th>min</th>\n",
       "      <td>27083.250000</td>\n",
       "      <td>25000.000000</td>\n",
       "      <td>32.726967</td>\n",
       "      <td>-122.466538</td>\n",
       "    </tr>\n",
       "    <tr>\n",
       "      <th>25%</th>\n",
       "      <td>54882.587500</td>\n",
       "      <td>51576.497500</td>\n",
       "      <td>33.954720</td>\n",
       "      <td>-120.943179</td>\n",
       "    </tr>\n",
       "    <tr>\n",
       "      <th>50%</th>\n",
       "      <td>75175.000000</td>\n",
       "      <td>69131.685000</td>\n",
       "      <td>37.928543</td>\n",
       "      <td>-117.393600</td>\n",
       "    </tr>\n",
       "    <tr>\n",
       "      <th>75%</th>\n",
       "      <td>99658.497500</td>\n",
       "      <td>93480.715000</td>\n",
       "      <td>40.750133</td>\n",
       "      <td>-73.989780</td>\n",
       "    </tr>\n",
       "    <tr>\n",
       "      <th>max</th>\n",
       "      <td>175000.000000</td>\n",
       "      <td>156000.000000</td>\n",
       "      <td>51.515704</td>\n",
       "      <td>0.035485</td>\n",
       "    </tr>\n",
       "  </tbody>\n",
       "</table>\n",
       "</div>"
      ],
      "text/plain": [
       "          salary_max     salary_min   latitude   longitude\n",
       "count     150.000000     150.000000  77.000000   77.000000\n",
       "mean    80226.384000   73926.877333  38.212112  -97.439284\n",
       "std     31667.131773   28166.485779   4.327679   31.570481\n",
       "min     27083.250000   25000.000000  32.726967 -122.466538\n",
       "25%     54882.587500   51576.497500  33.954720 -120.943179\n",
       "50%     75175.000000   69131.685000  37.928543 -117.393600\n",
       "75%     99658.497500   93480.715000  40.750133  -73.989780\n",
       "max    175000.000000  156000.000000  51.515704    0.035485"
      ]
     },
     "metadata": {},
     "output_type": "display_data"
    },
    {
     "data": {
      "text/markdown": [
       "---"
      ],
      "text/plain": [
       "<IPython.core.display.Markdown object>"
      ]
     },
     "metadata": {},
     "output_type": "display_data"
    },
    {
     "data": {
      "text/markdown": [
       "Missing Values"
      ],
      "text/plain": [
       "<IPython.core.display.Markdown object>"
      ]
     },
     "metadata": {},
     "output_type": "display_data"
    },
    {
     "data": {
      "text/plain": [
       "id                 0\n",
       "title              0\n",
       "company            0\n",
       "location           0\n",
       "category           0\n",
       "salary_max         0\n",
       "salary_min         0\n",
       "latitude          73\n",
       "longitude         73\n",
       "contract_type    118\n",
       "contract_time     91\n",
       "description        0\n",
       "created            0\n",
       "url              150\n",
       "dtype: int64"
      ]
     },
     "metadata": {},
     "output_type": "display_data"
    },
    {
     "data": {
      "text/markdown": [
       "---"
      ],
      "text/plain": [
       "<IPython.core.display.Markdown object>"
      ]
     },
     "metadata": {},
     "output_type": "display_data"
    },
    {
     "data": {
      "text/markdown": [
       "Data Types"
      ],
      "text/plain": [
       "<IPython.core.display.Markdown object>"
      ]
     },
     "metadata": {},
     "output_type": "display_data"
    },
    {
     "data": {
      "text/plain": [
       "id                object\n",
       "title             object\n",
       "company           object\n",
       "location          object\n",
       "category          object\n",
       "salary_max       float64\n",
       "salary_min       float64\n",
       "latitude         float64\n",
       "longitude        float64\n",
       "contract_type     object\n",
       "contract_time     object\n",
       "description       object\n",
       "created           object\n",
       "url               object\n",
       "dtype: object"
      ]
     },
     "metadata": {},
     "output_type": "display_data"
    },
    {
     "data": {
      "text/markdown": [
       "---"
      ],
      "text/plain": [
       "<IPython.core.display.Markdown object>"
      ]
     },
     "metadata": {},
     "output_type": "display_data"
    }
   ],
   "source": [
    "import sqlite3\n",
    "import pandas as pd\n",
    "from IPython.display import display, Markdown\n",
    "\n",
    "# Connect to SQLite database\n",
    "conn    = sqlite3.connect('adzuna_jobs.db')\n",
    "\n",
    "# Read a table into a dataframe\n",
    "jobs_df = pd.read_sql_query(\"SELECT * FROM jobs\", conn)\n",
    "\n",
    "# close the connection\n",
    "conn.close()\n",
    "\n",
    "display(Markdown('### Jobs Dataframe'))\n",
    "display(jobs_df.tail())\n",
    "display(Markdown('---'))\n",
    "display(Markdown('Descriptive Statistics'))\n",
    "display(jobs_df.describe())\n",
    "display(Markdown('---'))\n",
    "display(Markdown('Missing Values'))\n",
    "display(jobs_df.isnull().sum())\n",
    "display(Markdown('---'))\n",
    "display(Markdown('Data Types'))\n",
    "display(jobs_df.dtypes)\n",
    "display(Markdown('---'))\n"
   ]
  },
  {
   "cell_type": "code",
   "execution_count": null,
   "id": "e03d1382",
   "metadata": {},
   "outputs": [],
   "source": []
  }
 ],
 "metadata": {
  "kernelspec": {
   "display_name": "scrapping-analysis-env",
   "language": "python",
   "name": "python3"
  },
  "language_info": {
   "codemirror_mode": {
    "name": "ipython",
    "version": 3
   },
   "file_extension": ".py",
   "mimetype": "text/x-python",
   "name": "python",
   "nbconvert_exporter": "python",
   "pygments_lexer": "ipython3",
   "version": "3.13.3"
  }
 },
 "nbformat": 4,
 "nbformat_minor": 5
}
